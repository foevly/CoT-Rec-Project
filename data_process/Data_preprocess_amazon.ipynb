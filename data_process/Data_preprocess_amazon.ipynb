{
 "cells": [
  {
   "cell_type": "code",
   "execution_count": null,
   "metadata": {},
   "outputs": [],
   "source": [
    "import json\n",
    "import pandas as pd\n",
    "from tqdm import tqdm\n",
    "import os"
   ]
  },
  {
   "cell_type": "code",
   "execution_count": null,
   "metadata": {},
   "outputs": [
    {
     "name": "stdout",
     "output_type": "stream",
     "text": [
      "============================================================\n",
      "Amazon 数据预处理\n",
      "============================================================\n",
      "\n",
      "[1/5] 读取reviews...\n"
     ]
    },
    {
     "name": "stderr",
     "output_type": "stream",
     "text": [
      "14318520it [00:39, 359547.96it/s]\n"
     ]
    },
    {
     "name": "stdout",
     "output_type": "stream",
     "text": [
      "   原始交互: 14318520\n",
      "\n",
      "[2/5] 过滤数据 (5-core)...\n",
      "   过滤后交互: 4125640\n",
      "   用户数: 419876\n",
      "   物品数: 135194\n",
      "\n",
      "[3/5] 重新编码ID...\n",
      "\n",
      "[4/5] 保存交互序列...\n",
      "   ✅ ../data/Grocery_and_Gourmet_Food.csv\n",
      "\n",
      "[5/5] 提取物品标题...\n"
     ]
    },
    {
     "name": "stderr",
     "output_type": "stream",
     "text": [
      "603274it [00:05, 101309.95it/s]\n"
     ]
    },
    {
     "name": "stdout",
     "output_type": "stream",
     "text": [
      "   ✅ ../data/Grocery_and_Gourmet_Food_caption.json\n",
      "\n",
      "============================================================\n",
      "完成！数据统计:\n",
      "  用户数: 419876\n",
      "  物品数: 135194\n",
      "  交互数: 4125640\n",
      "  平均每用户交互: 9.8\n",
      "============================================================\n"
     ]
    }
   ],
   "source": [
    "# 配置\n",
    "DATASET = 'Grocery_and_Gourmet_Food'\n",
    "DATA_DIR = '../data'\n",
    "MIN_INTERACTIONS = 5  # 最少交互次数\n",
    "\n",
    "def main():\n",
    "    print(\"=\"*60)\n",
    "    print(\"Amazon 数据预处理\")\n",
    "    print(\"=\"*60)\n",
    "    \n",
    "    # 文件路径\n",
    "    review_file = os.path.join(DATA_DIR, f'{DATASET}.jsonl')\n",
    "    meta_file = os.path.join(DATA_DIR, f'meta_{DATASET}.jsonl')\n",
    "    output_csv = os.path.join(DATA_DIR, f'{DATASET}.csv')\n",
    "    output_caption = os.path.join(DATA_DIR, f'{DATASET}_caption.json')\n",
    "    \n",
    "    # 检查文件\n",
    "    if not os.path.exists(review_file):\n",
    "        print(f\"❌ 找不到: {review_file}\")\n",
    "        return\n",
    "    if not os.path.exists(meta_file):\n",
    "        print(f\"❌ 找不到: {meta_file}\")\n",
    "        return\n",
    "    \n",
    "    # 步骤1: 读取reviews\n",
    "    print(\"\\n[1/5] 读取reviews...\")\n",
    "    reviews = []\n",
    "    with open(review_file, 'r') as f:\n",
    "        for line in tqdm(f):\n",
    "            data = json.loads(line.strip())\n",
    "            reviews.append({\n",
    "                'user_id': data.get('user_id', ''),\n",
    "                'item_id': data.get('parent_asin', data.get('asin', '')),\n",
    "                'timestamp': data.get('timestamp', 0)\n",
    "            })\n",
    "    \n",
    "    df = pd.DataFrame(reviews)\n",
    "    print(f\"   原始交互: {len(df)}\")\n",
    "    \n",
    "    # 步骤2: 5-core过滤\n",
    "    print(\"\\n[2/5] 过滤数据 (5-core)...\")\n",
    "    while True:\n",
    "        user_counts = df['user_id'].value_counts()\n",
    "        item_counts = df['item_id'].value_counts()\n",
    "        \n",
    "        df = df[df['user_id'].isin(user_counts[user_counts >= MIN_INTERACTIONS].index)]\n",
    "        df = df[df['item_id'].isin(item_counts[item_counts >= MIN_INTERACTIONS].index)]\n",
    "        \n",
    "        if (df['user_id'].value_counts() < MIN_INTERACTIONS).sum() == 0 and \\\n",
    "           (df['item_id'].value_counts() < MIN_INTERACTIONS).sum() == 0:\n",
    "            break\n",
    "    \n",
    "    print(f\"   过滤后交互: {len(df)}\")\n",
    "    print(f\"   用户数: {df['user_id'].nunique()}\")\n",
    "    print(f\"   物品数: {df['item_id'].nunique()}\")\n",
    "    \n",
    "    # 步骤3: 重新编码ID\n",
    "    print(\"\\n[3/5] 重新编码ID...\")\n",
    "    user_map = {old: new for new, old in enumerate(sorted(df['user_id'].unique()))}\n",
    "    item_map = {old: new for new, old in enumerate(sorted(df['item_id'].unique()))}\n",
    "    item_reverse = {v: k for k, v in item_map.items()}\n",
    "    \n",
    "    df['user_id'] = df['user_id'].map(user_map)\n",
    "    df['item_id'] = df['item_id'].map(item_map)\n",
    "    \n",
    "    # 步骤4: 排序并保存CSV\n",
    "    print(\"\\n[4/5] 保存交互序列...\")\n",
    "    df = df.sort_values(['user_id', 'timestamp'])\n",
    "    df[['user_id', 'item_id']].to_csv(output_csv, header=False, index=False)\n",
    "    print(f\"   ✅ {output_csv}\")\n",
    "    \n",
    "    # 步骤5: 读取meta并保存caption\n",
    "    print(\"\\n[5/5] 提取物品标题...\")\n",
    "    meta = {}\n",
    "    with open(meta_file, 'r') as f:\n",
    "        for line in tqdm(f):\n",
    "            item = json.loads(line.strip())\n",
    "            item_id = item.get('parent_asin', item.get('asin', ''))\n",
    "            if item_id:\n",
    "                meta[item_id] = item.get('title', 'Unknown Product')\n",
    "    \n",
    "    captions = {}\n",
    "    for new_id, old_id in item_reverse.items():\n",
    "        captions[str(new_id)] = meta.get(old_id, 'Unknown Product')\n",
    "    \n",
    "    with open(output_caption, 'w') as f:\n",
    "        json.dump(captions, f, ensure_ascii=False, indent=2)\n",
    "    print(f\"   ✅ {output_caption}\")\n",
    "    \n",
    "    # 统计信息\n",
    "    print(\"\\n\" + \"=\"*60)\n",
    "    print(\"完成！数据统计:\")\n",
    "    print(f\"  用户数: {df['user_id'].nunique()}\")\n",
    "    print(f\"  物品数: {df['item_id'].nunique()}\")\n",
    "    print(f\"  交互数: {len(df)}\")\n",
    "    print(f\"  平均每用户交互: {len(df) / df['user_id'].nunique():.1f}\")\n",
    "    print(\"=\"*60)\n",
    "\n",
    "if __name__ == '__main__':\n",
    "    main()"
   ]
  },
  {
   "cell_type": "code",
   "execution_count": null,
   "metadata": {},
   "outputs": [],
   "source": []
  }
 ],
 "metadata": {
  "kernelspec": {
   "display_name": "base",
   "language": "python",
   "name": "python3"
  },
  "language_info": {
   "codemirror_mode": {
    "name": "ipython",
    "version": 3
   },
   "file_extension": ".py",
   "mimetype": "text/x-python",
   "name": "python",
   "nbconvert_exporter": "python",
   "pygments_lexer": "ipython3",
   "version": "3.11.8"
  }
 },
 "nbformat": 4,
 "nbformat_minor": 2
}
